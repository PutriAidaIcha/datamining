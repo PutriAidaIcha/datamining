{
  "nbformat": 4,
  "nbformat_minor": 0,
  "metadata": {
    "colab": {
      "name": "c45.ipynb",
      "provenance": [],
      "collapsed_sections": []
    },
    "kernelspec": {
      "name": "python3",
      "display_name": "Python 3"
    },
    "language_info": {
      "name": "python"
    }
  },
  "cells": [
    {
      "cell_type": "code",
      "metadata": {
        "id": "UAVSnjsomIDS"
      },
      "source": [
        "import numpy as np\n",
        "import pandas as pd\n",
        "from sklearn import tree"
      ],
      "execution_count": 34,
      "outputs": []
    },
    {
      "cell_type": "code",
      "metadata": {
        "id": "jSkyUenOpbkr"
      },
      "source": [
        "irisDataset = pd.read_csv('dataset_iris.csv', delimiter=',', header=0)"
      ],
      "execution_count": 36,
      "outputs": []
    },
    {
      "cell_type": "code",
      "metadata": {
        "id": "r_CFSEdwqlYo"
      },
      "source": [
        "irisDataset[\"Species\"] = pd.factorize(irisDataset.Species)[0]"
      ],
      "execution_count": null,
      "outputs": []
    },
    {
      "cell_type": "code",
      "metadata": {
        "id": "BomiqaJlrCPb"
      },
      "source": [
        "irisDataset = irisDataset.drop(labels=\"Id\", axis=1)"
      ],
      "execution_count": null,
      "outputs": []
    },
    {
      "cell_type": "code",
      "metadata": {
        "id": "weFgwGxYrIZT"
      },
      "source": [
        "irisDataset = irisDataset.to_numpy()"
      ],
      "execution_count": null,
      "outputs": []
    },
    {
      "cell_type": "code",
      "metadata": {
        "id": "r8IIf-IVrMLo"
      },
      "source": [
        "dataTraining = np.concatenate((IrisDataset[0:40,:]:),irisDataset[50:90,:], axis=0)\n",
        "dataTraining = np.concatenate((IrisDataset[40:50,:]:),irisDataset[90:100,:], axis=0)"
      ],
      "execution_count": null,
      "outputs": []
    },
    {
      "cell_type": "code",
      "metadata": {
        "id": "WVg13ACOrlYY"
      },
      "source": [
        "inputTraining = dataTraining[:,0:4]\n",
        "inputTesting = dataTesting[:,0:4]\n",
        "labelTraining = dataTraining[:,4]\n",
        "labelTesting = dataTesting[:,4]\n"
      ],
      "execution_count": null,
      "outputs": []
    },
    {
      "cell_type": "code",
      "metadata": {
        "id": "lpcDyh-xrpmL"
      },
      "source": [
        "model = tree.DecisionTreeClassifier()"
      ],
      "execution_count": null,
      "outputs": []
    },
    {
      "cell_type": "code",
      "metadata": {
        "id": "EtDNbEDGrq4U"
      },
      "source": [
        "model = model.fit(inputTraining, labelTraining)"
      ],
      "execution_count": null,
      "outputs": []
    },
    {
      "cell_type": "code",
      "metadata": {
        "id": "0mucQkHQryhM"
      },
      "source": [
        "hasilPrediksi = model.predict(inputTesting)\n",
        "print(\"Label sebenarnya \", labelTesting)\n",
        "print(\"Hasil prediksi :\", hasilPrediksi)"
      ],
      "execution_count": null,
      "outputs": []
    },
    {
      "cell_type": "code",
      "metadata": {
        "id": "kHlsOipWrz_a"
      },
      "source": [
        "prediksiBenar= (hasilPrediksi == labelTesting).sum()\n",
        "prediksiSalah = (hasilPrediksi != labelTesting).sum()\n",
        "print(\"prediksi benar : \"), prediksiBenar, \"data\")\n",
        "print(\"prediksi salah : \"), prediksiBenar, \"data\")\n",
        "print(\"akurasi :\", prediksiBenar/(prediksiBenar+prediksiSalah) * 100, \"&\")"
      ],
      "execution_count": null,
      "outputs": []
    }
  ]
}