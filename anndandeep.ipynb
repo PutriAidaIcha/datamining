{
  "nbformat": 4,
  "nbformat_minor": 0,
  "metadata": {
    "colab": {
      "name": "anndandeep.ipynb",
      "provenance": []
    },
    "kernelspec": {
      "name": "python3",
      "display_name": "Python 3"
    },
    "language_info": {
      "name": "python"
    }
  },
  "cells": [
    {
      "cell_type": "code",
      "metadata": {
        "id": "1AaOmGGeHbKH"
      },
      "source": [
        "import numpy as np"
      ],
      "execution_count": 4,
      "outputs": []
    },
    {
      "cell_type": "code",
      "metadata": {
        "id": "uMQ8xdruHkNf"
      },
      "source": [
        "def forwardPass(inputs, weight, bias):\n",
        "        w_sum = np.dot(inputs, weight) + bias\n",
        "\n",
        "        # Linear Activation f(x) = x\n",
        "        act = w_sum\n",
        "\n",
        "        return act"
      ],
      "execution_count": 5,
      "outputs": []
    },
    {
      "cell_type": "code",
      "metadata": {
        "id": "QGAf8ekCHo1K"
      },
      "source": [
        "# Pre-Trained Weights & Biases after Training\n",
        "W = np.array([[2.99999928]])\n",
        "b = np.array([1.99999976])"
      ],
      "execution_count": 6,
      "outputs": []
    },
    {
      "cell_type": "code",
      "metadata": {
        "id": "_Xfr30eaH4Ia"
      },
      "source": [
        "# Initialize Input Data\n",
        "inputs = np.array([[7], [8], [9], [10]])"
      ],
      "execution_count": 7,
      "outputs": []
    },
    {
      "cell_type": "code",
      "metadata": {
        "id": "9STsih0cH8WO"
      },
      "source": [
        "# Output of Output Layer\n",
        "o_out = forwardPass(inputs, W, b)\n"
      ],
      "execution_count": 8,
      "outputs": []
    },
    {
      "cell_type": "code",
      "metadata": {
        "colab": {
          "base_uri": "https://localhost:8080/"
        },
        "id": "x3-q3lL2IDtL",
        "outputId": "e1f6387e-f260-4a04-99ee-86724fc52ea7"
      },
      "source": [
        "print('Output Layer Output (Linear)')\n",
        "print('================================')\n",
        "print(o_out, \"\\n\")\n"
      ],
      "execution_count": 9,
      "outputs": [
        {
          "output_type": "stream",
          "text": [
            "Output Layer Output (Linear)\n",
            "================================\n",
            "[[22.99999472]\n",
            " [25.999994  ]\n",
            " [28.99999328]\n",
            " [31.99999256]] \n",
            "\n"
          ],
          "name": "stdout"
        }
      ]
    }
  ]
}